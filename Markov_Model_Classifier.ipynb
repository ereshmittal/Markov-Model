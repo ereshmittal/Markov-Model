{
  "nbformat": 4,
  "nbformat_minor": 0,
  "metadata": {
    "colab": {
      "provenance": [],
      "authorship_tag": "ABX9TyORFgNOFNMxWDpkHZgnyYY0",
      "include_colab_link": true
    },
    "kernelspec": {
      "name": "python3",
      "display_name": "Python 3"
    },
    "language_info": {
      "name": "python"
    }
  },
  "cells": [
    {
      "cell_type": "markdown",
      "metadata": {
        "id": "view-in-github",
        "colab_type": "text"
      },
      "source": [
        "<a href=\"https://colab.research.google.com/github/ereshmittal/Markov-Model/blob/main/Markov_Model_Classifier.ipynb\" target=\"_parent\"><img src=\"https://colab.research.google.com/assets/colab-badge.svg\" alt=\"Open In Colab\"/></a>"
      ]
    },
    {
      "cell_type": "code",
      "source": [
        "!head robert_frost.txt"
      ],
      "metadata": {
        "colab": {
          "base_uri": "https://localhost:8080/"
        },
        "id": "KcpPNkkCfRhj",
        "outputId": "8a213393-0673-49f3-8aed-161c7a77ec98"
      },
      "execution_count": null,
      "outputs": [
        {
          "output_type": "stream",
          "name": "stdout",
          "text": [
            "Two roads diverged in a yellow wood,\n",
            "And sorry I could not travel both\n",
            "And be one traveler, long I stood\n",
            "And looked down one as far as I could\n",
            "To where it bent in the undergrowth; \n",
            "\n",
            "Then took the other, as just as fair,\n",
            "And having perhaps the better claim\n",
            "Because it was grassy and wanted wear,\n",
            "Though as for that the passing there\n"
          ]
        }
      ]
    },
    {
      "cell_type": "code",
      "source": [
        "import numpy as np\n",
        "import pandas as pd\n",
        "\n",
        "import string\n",
        "from sklearn.model_selection import train_test_split"
      ],
      "metadata": {
        "id": "dXo9TIHpfWH5"
      },
      "execution_count": null,
      "outputs": []
    },
    {
      "cell_type": "code",
      "source": [
        "input_files = ['robert_frost.txt', 'edgar_allan_poe.txt']"
      ],
      "metadata": {
        "id": "0zUPE8Q0fnAZ"
      },
      "execution_count": null,
      "outputs": []
    },
    {
      "cell_type": "code",
      "source": [
        "input_texts = []\n",
        "labels = []\n",
        "\n",
        "for label, f in enumerate(input_files):\n",
        "  print(f'{f} corresponds to label {label}')\n",
        "  with open(f) as txt:\n",
        "    for line in txt:\n",
        "      line = line.rstrip().lower()\n",
        "      if line:\n",
        "        line = line.translate(str.maketrans('', '', string.punctuation))\n",
        "\n",
        "      input_texts.append(line)\n",
        "      labels.append(label)"
      ],
      "metadata": {
        "colab": {
          "base_uri": "https://localhost:8080/"
        },
        "id": "gtv-kIb6f7Po",
        "outputId": "51baa883-b24f-4218-a390-ef4fe8727f2d"
      },
      "execution_count": null,
      "outputs": [
        {
          "output_type": "stream",
          "name": "stdout",
          "text": [
            "robert_frost.txt corresponds to label 0\n",
            "edgar_allan_poe.txt corresponds to label 1\n"
          ]
        }
      ]
    },
    {
      "cell_type": "code",
      "source": [
        "train, test, ytrain, ytest = train_test_split(input_texts, labels)"
      ],
      "metadata": {
        "id": "n4FCkOPyh8Xf"
      },
      "execution_count": null,
      "outputs": []
    },
    {
      "cell_type": "code",
      "source": [
        "len(train), len(test)"
      ],
      "metadata": {
        "colab": {
          "base_uri": "https://localhost:8080/"
        },
        "id": "uIFX6j3OiFyN",
        "outputId": "b63e5092-99c2-4c43-ab0c-3f1da1d4b9bf"
      },
      "execution_count": null,
      "outputs": [
        {
          "output_type": "execute_result",
          "data": {
            "text/plain": [
              "(1783, 595)"
            ]
          },
          "metadata": {},
          "execution_count": 7
        }
      ]
    },
    {
      "cell_type": "code",
      "source": [
        "idx = 1\n",
        "word2idx = {'<unk>':0}"
      ],
      "metadata": {
        "id": "Z6JFc2GVid59"
      },
      "execution_count": null,
      "outputs": []
    },
    {
      "cell_type": "code",
      "source": [
        "for text in train:\n",
        "  tokens = text.split()\n",
        "  for token in tokens:\n",
        "    if token not in word2idx:\n",
        "      word2idx[token] = idx\n",
        "      idx += 1"
      ],
      "metadata": {
        "id": "BDZC_NosismE"
      },
      "execution_count": null,
      "outputs": []
    },
    {
      "cell_type": "code",
      "source": [
        "train_text_int = []\n",
        "test_text_int = []\n",
        "\n",
        "for text in train:\n",
        "  tokens = text.split()\n",
        "  text_as_int = [word2idx[token] for token in tokens]\n",
        "  train_text_int.append(text_as_int)\n",
        "\n",
        "for text in test:\n",
        "  tokens = text.split()\n",
        "  text_as_int = [word2idx.get(token,0) for token in tokens]\n",
        "  test_text_int.append(text_as_int)"
      ],
      "metadata": {
        "id": "tbt0hITOi-2m"
      },
      "execution_count": null,
      "outputs": []
    },
    {
      "cell_type": "code",
      "source": [
        "V = len(word2idx) + 1\n",
        "\n",
        "A0 = np.ones((V,V))\n",
        "pi0 = np.ones(V)\n",
        "\n",
        "A1 = np.ones((V,V))\n",
        "pi1 = np.ones(V)"
      ],
      "metadata": {
        "id": "3_uc-_-dvPEJ"
      },
      "execution_count": null,
      "outputs": []
    },
    {
      "cell_type": "code",
      "source": [
        "def compute_counts(text_as_int, A, pi):\n",
        "  for tokens in text_as_int:\n",
        "    last_idx = None\n",
        "    for id in tokens:\n",
        "      if last_idx is None:\n",
        "        pi[id] += 1\n",
        "      else:\n",
        "        A[last_idx, id] += 1\n",
        "      last_idx = idx"
      ],
      "metadata": {
        "id": "8Kh-h9EXkfw5"
      },
      "execution_count": null,
      "outputs": []
    },
    {
      "cell_type": "code",
      "source": [
        "rob_text_int = [t for t, y in zip(train_text_int, ytrain) if y == 0]\n",
        "ed_text_int = [t for t, y in zip(train_text_int, ytrain) if y == 1]"
      ],
      "metadata": {
        "id": "uTOQ6sLfp4mg"
      },
      "execution_count": null,
      "outputs": []
    },
    {
      "cell_type": "code",
      "source": [
        "compute_counts(rob_text_int, A0, pi0)\n",
        "compute_counts(ed_text_int, A1, pi1)"
      ],
      "metadata": {
        "id": "Au50GuR1qW1W"
      },
      "execution_count": null,
      "outputs": []
    },
    {
      "cell_type": "code",
      "source": [
        "A0 /= A0.sum(axis=1, keepdims=True)\n",
        "pi0 /= pi0.sum()\n",
        "\n",
        "A1 /= A1.sum(axis=1, keepdims=True)\n",
        "pi1 /= pi1.sum()"
      ],
      "metadata": {
        "id": "J1YS0MgNq0cM"
      },
      "execution_count": null,
      "outputs": []
    },
    {
      "cell_type": "code",
      "source": [
        "logA0 = np.log(A0)\n",
        "logpi0 = np.log(pi0)\n",
        "\n",
        "logA1 = np.log(A1)\n",
        "logpi1 = np.log(pi1)"
      ],
      "metadata": {
        "id": "1BnEKUKQzMG3"
      },
      "execution_count": null,
      "outputs": []
    },
    {
      "cell_type": "code",
      "source": [
        "count0 = sum(y==0 for y in ytrain)\n",
        "count1 = sum(y==1 for y in ytrain)\n",
        "total = len(ytrain)\n",
        "\n",
        "p0 = count0/total\n",
        "p1 = count1/total\n",
        "\n",
        "logp0 = np.log(p0)\n",
        "logp1 = np.log(p1)\n",
        "\n",
        "p0,p1"
      ],
      "metadata": {
        "colab": {
          "base_uri": "https://localhost:8080/"
        },
        "id": "DGhXegXjzd6a",
        "outputId": "7210dea1-ed08-4f44-ae1d-b4f6739bc060"
      },
      "execution_count": null,
      "outputs": [
        {
          "output_type": "execute_result",
          "data": {
            "text/plain": [
              "(0.6634885025238362, 0.33651149747616377)"
            ]
          },
          "metadata": {},
          "execution_count": 21
        }
      ]
    },
    {
      "cell_type": "code",
      "source": [
        "class Classifier():\n",
        "  def __init__(self, logA, logpi, logpriors):\n",
        "    self.logA = logA\n",
        "    self.logpi = logpi\n",
        "    self.logpriors = logpriors\n",
        "    self.K = len(logpriors)\n",
        "\n",
        "  def _compute_log_likelihood(self, input_, class_):\n",
        "    logA = self.logA[class_]\n",
        "    logpi = self.logpi[class_]\n",
        "\n",
        "    last_idx = None\n",
        "    logprob = 0\n",
        "    for idx in input_:\n",
        "      if last_idx is None:\n",
        "        logprob += logpi[idx]\n",
        "      else:\n",
        "        logprob += logA[last_idx, idx]\n",
        "\n",
        "      last_idx = idx\n",
        "\n",
        "    return logprob\n",
        "\n",
        "  def predict(self, inputs):\n",
        "    predictions = np.ones(len(inputs))\n",
        "    for i, input_ in enumerate(inputs):\n",
        "      posteriors = [self._compute_log_likelihood(input_, c) + self.logpriors[c] for c in range(self.K)] \n",
        "      pred = np.argmax(posteriors)\n",
        "      predictions[i] = pred\n",
        "    return predictions"
      ],
      "metadata": {
        "id": "lG4CJycv0ERb"
      },
      "execution_count": null,
      "outputs": []
    },
    {
      "cell_type": "code",
      "source": [
        "clf = Classifier([logA0, logA1], [logpi0, logpi1], [logp0, logp1])"
      ],
      "metadata": {
        "id": "jiwhm0wn3de_"
      },
      "execution_count": null,
      "outputs": []
    },
    {
      "cell_type": "code",
      "source": [
        "Ptrain = clf.predict(train_text_int)\n",
        "print(f\"Train acc: {np.mean(Ptrain==ytrain)}\")"
      ],
      "metadata": {
        "colab": {
          "base_uri": "https://localhost:8080/"
        },
        "id": "usrrZhun3n2H",
        "outputId": "4b8994de-a0bc-4502-df49-f83041dc0475"
      },
      "execution_count": null,
      "outputs": [
        {
          "output_type": "stream",
          "name": "stdout",
          "text": [
            "Train acc: 0.7453729669097028\n"
          ]
        }
      ]
    },
    {
      "cell_type": "code",
      "source": [
        "Ptest = clf.predict(test_text_int)\n",
        "print(f\"Train acc: {np.mean(Ptest==ytest)}\")"
      ],
      "metadata": {
        "colab": {
          "base_uri": "https://localhost:8080/"
        },
        "id": "ZZmmMX2U31_V",
        "outputId": "07bd766e-5489-4599-df17-e3fdc9f50cf2"
      },
      "execution_count": null,
      "outputs": [
        {
          "output_type": "stream",
          "name": "stdout",
          "text": [
            "Train acc: 0.6957983193277311\n"
          ]
        }
      ]
    },
    {
      "cell_type": "code",
      "source": [],
      "metadata": {
        "id": "YW7VQfRN4C5r"
      },
      "execution_count": null,
      "outputs": []
    }
  ]
}